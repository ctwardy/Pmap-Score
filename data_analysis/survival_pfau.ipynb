{
 "metadata": {
  "signature": "sha256:17eece5d18ce696e610eea67cd39b09c922042fe266b6f415c5470871903dc8c"
 },
 "nbformat": 3,
 "nbformat_minor": 0,
 "worksheets": [
  {
   "cells": [
    {
     "cell_type": "heading",
     "level": 1,
     "metadata": {},
     "source": [
      "ISRID Survival Modeling with Uncertainty"
     ]
    },
    {
     "cell_type": "markdown",
     "metadata": {},
     "source": [
      "In which we use resampling statistics to add error bars to the basic survival stats reported in (Koester 2008). \n",
      "\n",
      "First, initialize the interpreter."
     ]
    },
    {
     "cell_type": "code",
     "collapsed": false,
     "input": [
      "%matplotlib inline\n",
      "import numpy as np\n",
      "import scipy as sp\n",
      "import pandas as pd\n",
      "import matplotlib.pyplot as plt"
     ],
     "language": "python",
     "metadata": {},
     "outputs": [],
     "prompt_number": 93
    },
    {
     "cell_type": "markdown",
     "metadata": {},
     "source": [
      "Next, enter the basic data from (Koester 2008), courtesy of Bob since I cannot find my copy of LPB.  $N$ is the number of subjects not found as of that many hours (from 'bins').  $P$ is the probability they will be found alive (neither \"DOA\" nor \"No Trace\").  Note that this reuses data: the 2460 Hikers in the \">0\" bin represents *all* the Hikers, not just the ones who will be found in the first 24 hours.  Therefore the 60% probability that Hikers will be found alive after 48 hours includes those found alive after 72 hours or after 96 hours."
     ]
    },
    {
     "cell_type": "code",
     "collapsed": false,
     "input": [
      "bins = ['>0','>24','>48','>72','>96']\n",
      "N_hikers = np.array([2460, 361, 118, 51, 23])\n",
      "P_hikers = np.array([.97, .76, .60, .52, .49])\n",
      "\n",
      "N_child46 = np.array([191, 8, 3, 2, 1])\n",
      "P_child46 = np.array([.98, .38, .33, 0, 0])\n",
      "\n",
      "N_child1012 = np.array([257, 22, 4, 2, 1])\n",
      "P_child1012 = np.array([.98, .86, .75, .50, 0])"
     ],
     "language": "python",
     "metadata": {},
     "outputs": [],
     "prompt_number": 151
    },
    {
     "cell_type": "markdown",
     "metadata": {},
     "source": [
      "Multiplying N_hikers $\\times$ P_hikers should yield the #hikers that survived at each point. But 2460 $\\times$ .97 = 2386.2, and there were no fractional survivors in the original data. So \".97\" is actually rounded.  But we can recover the original survivor numbers by rounding.\n",
      "\n",
      "We also want to created a \"smoothed\" version of the data which avoids attributing zero probability just because we haven't yet seen such a case.  Therefore we add an extra .5 Hiker to the table who we imagine was found alive after 96 hours: this add .5 to each cell of the table.  We have to add that .5 to both $N$ and $N_{surv}$.  Then we can recalculate $P$.  For Hikers it doesn't make a noticeable difference."
     ]
    },
    {
     "cell_type": "heading",
     "level": 2,
     "metadata": {},
     "source": [
      "Hikers Data"
     ]
    },
    {
     "cell_type": "code",
     "collapsed": false,
     "input": [
      "N2_hikers = N_hikers + .5\n",
      "N_surv = np.round(N_hikers * P_hikers) + .5\n",
      "P2_hikers = N_surv/N2_hikers\n",
      "print N2_hikers\n",
      "print N_surv\n",
      "print P2_hikers"
     ],
     "language": "python",
     "metadata": {},
     "outputs": [
      {
       "output_type": "stream",
       "stream": "stdout",
       "text": [
        "[ 2460.5   361.5   118.5    51.5    23.5]\n",
        "[ 2386.5   274.5    71.5    27.5    11.5]\n",
        "[ 0.96992481  0.7593361   0.60337553  0.53398058  0.4893617 ]\n"
       ]
      }
     ],
     "prompt_number": 9
    },
    {
     "cell_type": "heading",
     "level": 2,
     "metadata": {},
     "source": [
      "Child 4-6 Data"
     ]
    },
    {
     "cell_type": "markdown",
     "metadata": {},
     "source": [
      "For Child 4-6, it makes a considerable difference in the tail probabilities. Instead of 0% and 0%, we have 20% and 33%.  (The final bin is higher because the .5 has more effect on $N=1$ than on $N=2$.  (.5/1.5 is 0.33 whereas .5/2.5 is 20%). "
     ]
    },
    {
     "cell_type": "code",
     "collapsed": false,
     "input": [
      "N2_child46 = N_child46 + .5\n",
      "N_surv = np.round(N_child46 * P_child46) + .5\n",
      "P2_child46 = N_surv/N2_child46\n",
      "print N2_child46\n",
      "print N_surv\n",
      "print P2_child46"
     ],
     "language": "python",
     "metadata": {},
     "outputs": [
      {
       "output_type": "stream",
       "stream": "stdout",
       "text": [
        "[ 191.5    8.5    3.5    2.5    1.5]\n",
        "[ 187.5    3.5    1.5    0.5    0.5]\n",
        "[ 0.97911227  0.41176471  0.42857143  0.2         0.33333333]\n"
       ]
      }
     ],
     "prompt_number": 152
    },
    {
     "cell_type": "heading",
     "level": 2,
     "metadata": {},
     "source": [
      "Child 10-12 Data"
     ]
    },
    {
     "cell_type": "markdown",
     "metadata": {},
     "source": [
      "Likewise, the smoothing makes a noticeable difference to Child 10-12, moving 50% and 0% to 60% and 33%."
     ]
    },
    {
     "cell_type": "code",
     "collapsed": false,
     "input": [
      "N2_child1012 = N_child1012 + .5\n",
      "N_surv = np.round(N_child1012 * P_child1012) + .5\n",
      "P2_child1012 = N_surv/N2_child1012\n",
      "print N_surv\n",
      "print P2_child1012"
     ],
     "language": "python",
     "metadata": {},
     "outputs": [
      {
       "output_type": "stream",
       "stream": "stdout",
       "text": [
        "[ 252.5   19.5    3.5    1.5    0.5]\n",
        "[ 0.98058252  0.86666667  0.77777778  0.6         0.33333333]\n"
       ]
      }
     ],
     "prompt_number": 153
    },
    {
     "cell_type": "heading",
     "level": 1,
     "metadata": {},
     "source": [
      "Error Bars"
     ]
    },
    {
     "cell_type": "markdown",
     "metadata": {},
     "source": [
      "Next, we need some estimate of the expected variability.  If our population had *n* survivors out of *N* candidates, and we drew *N* at random with replacement, how much variation would we expect? We will use resampling, and we will have to round up to make this work for small counts."
     ]
    },
    {
     "cell_type": "heading",
     "level": 2,
     "metadata": {},
     "source": [
      "Resampling Routine"
     ]
    },
    {
     "cell_type": "markdown",
     "metadata": {},
     "source": [
      "First, define and test our use of `bootstrap_resample` which draws several samples of size $N$ _with replacement_ from our data of size $N$.  We use it here to estimate standard deviations and standard errors."
     ]
    },
    {
     "cell_type": "code",
     "collapsed": false,
     "input": [
      "from resample import *\n",
      "def resample_stdev(N, N_surv, num_reps = 30):\n",
      "    assert N >= N_surv >= .5\n",
      "    pop = np.ones(np.ceil(N))\n",
      "    N_s = np.ceil(N_surv)\n",
      "    pop[N_s:] = 0\n",
      "    #print ',N_s=%d, sum(pop)=%d' % (N_s, sum(pop))\n",
      "    nums_surv = np.array( [np.sum(bootstrap_resample(pop)) for i in range(num_reps)] )\n",
      "    return np.std(nums_surv), nums_surv\n",
      "for i in [1,2, 5, 10,100,1000,10000]:\n",
      "    N_s = .75*i\n",
      "    print \"N=%d, N_surv=%.1f\" % (i, N_s),\n",
      "    stdev, survs = resample_stdev(i, N_s)\n",
      "    print '\\tSD=%.1f, SERR=%.1f' % (stdev, stdev/np.sqrt(i))\n",
      "    # print sorted(survs)"
     ],
     "language": "python",
     "metadata": {},
     "outputs": [
      {
       "output_type": "stream",
       "stream": "stdout",
       "text": [
        "N=1, N_surv=0.8 \tSD=0.0, SERR=0.0\n",
        "N=2, N_surv=1.5 \tSD=0.0, SERR=0.0\n",
        "N=5, N_surv=3.8 \tSD=0.7, SERR=0.3\n",
        "N=10, N_surv=7.5 \tSD=1.5, SERR=0.5\n",
        "N=100, N_surv=75.0 \tSD=4.8, SERR=0.5\n",
        "N=1000, N_surv=750.0 \tSD=12.9, SERR=0.4\n",
        "N=10000, N_surv=7500.0 \tSD=58.7, SERR=0.6\n"
       ]
      }
     ],
     "prompt_number": 57
    },
    {
     "cell_type": "heading",
     "level": 2,
     "metadata": {},
     "source": [
      "Uncertainty in Hikers"
     ]
    },
    {
     "cell_type": "markdown",
     "metadata": {},
     "source": [
      "Standard Deviations are OK, but we would really like to know the actual lower and upper error bars.  Since we are resampling, we can get those directly from the sorted sample, simply by chopping of the lower and upper 2.5% of the (sorted) sample. First we generate 95% CI ranges for Hikers (only)."
     ]
    },
    {
     "cell_type": "code",
     "collapsed": false,
     "input": [
      "print 'Hrs    N\\t P\\tP2\\tN_surv\\t SD\\t Range\\t\\t s,trim\\t 95% Range'\n",
      "print '-'*80\n",
      "uppers, lowers = [], []\n",
      "for hrs_bin, N_hik, P_hik, P2_hik in zip(bins, N2_hikers, P_hikers, P2_hikers):\n",
      "    N_surv = N_hik * P2_hik\n",
      "    stdev_hiker, samples = resample_stdev(N_hik, N_surv)\n",
      "    samples.sort()\n",
      "    trim = np.round(.025*len(samples))\n",
      "    lb95 = samples[trim]\n",
      "    ub95 = samples[-trim-1]\n",
      "    lowers.append(P2_hik - lb95/N_hik)\n",
      "    uppers.append(ub95/N_hik - P2_hik)\n",
      "    print '%3s  %.1f\\t %.0f%%\\t%.0f%%\\t %.1f\\t %.1f\\t [%d, %d]\\t %d,%d\\t [%d, %d]' % \\\n",
      "        (hrs_bin, N_hik, 100*P_hik, 100*P2_hik, N_surv, stdev_hiker,\n",
      "         samples[0], samples[-1], len(samples), trim, lb95, ub95)\n",
      "    #print samples"
     ],
     "language": "python",
     "metadata": {},
     "outputs": [
      {
       "output_type": "stream",
       "stream": "stdout",
       "text": [
        "Hrs    N\t P\tP2\tN_surv\t SD\t Range\t\t s,trim\t 95% Range\n",
        "--------------------------------------------------------------------------------\n",
        " >0  2460.5\t 97%\t97%\t 2386.5\t 7.8\t [2369, 2401]\t 30,1\t [2370, 2398]\n",
        ">24  361.5\t 76%\t76%\t 274.5\t 6.5\t [263, 287]\t 30,1\t [263, 285]\n",
        ">48  118.5\t 60%\t60%\t 71.5\t 5.0\t [62, 81]\t 30,1\t [63, 81]\n",
        ">72  51.5\t 52%\t53%\t 27.5\t 3.3\t [22, 33]\t 30,1\t [22, 33]\n",
        ">96  23.5\t 49%\t49%\t 11.5\t 2.2\t [8, 17]\t 30,1\t [8, 16]\n"
       ]
      }
     ],
     "prompt_number": 141
    },
    {
     "cell_type": "markdown",
     "metadata": {},
     "source": [
      "Now plot the results"
     ]
    },
    {
     "cell_type": "code",
     "collapsed": false,
     "input": [
      "N_bins = len(bins)\n",
      "bin_nums = (0,24,48,72,96)\n",
      "errbars = 100*np.array([lowers, uppers])\n",
      "print errbars\n",
      "\n",
      "plt.title('Hiker Survival Probabilities')\n",
      "plt.xlabel('For subjects not found as of $x$ hours...')\n",
      "plt.ylabel('Survival Rate')\n",
      "plt.scatter(bin_nums, 100*P_hikers, s=N_hikers)\n",
      "axes = plt.gca()\n",
      "axes.set_xticks(bin_nums)\n",
      "axes.set_xticklabels(bins)\n",
      "axes.set_ylim((0,100))\n",
      "plt.errorbar(bin_nums, 100*P_hikers, yerr=errbars)"
     ],
     "language": "python",
     "metadata": {},
     "outputs": [
      {
       "output_type": "stream",
       "stream": "stdout",
       "text": [
        "[[  0.67059541   3.18118949   7.17299578  10.67961165  14.89361702]\n",
        " [  0.46738468   2.90456432   8.01687764  10.67961165  19.14893617]]\n"
       ]
      },
      {
       "metadata": {},
       "output_type": "pyout",
       "prompt_number": 144,
       "text": [
        "<Container object of 3 artists>"
       ]
      },
      {
       "metadata": {},
       "output_type": "display_data",
       "png": "[encoded data removed]",
       "text": [
        "<matplotlib.figure.Figure at 0x107fe0790>"
       ]
      }
     ],
     "prompt_number": 144
    },
    {
     "cell_type": "heading",
     "level": 2,
     "metadata": {},
     "source": [
      "Generalize to make functions"
     ]
    },
    {
     "cell_type": "markdown",
     "metadata": {},
     "source": [
      "Rather than modify the Hiker code by hand for each category we can generalize it into a couple of functions, and then call those functions on each of our categories.  We create a function for printing the survival table (and calculating the error bars), and another function for making the plot."
     ]
    },
    {
     "cell_type": "code",
     "collapsed": false,
     "input": [
      "header = 'Hrs    N\\t P\\tP2\\tN_surv\\t SD\\t Range\\t\\t s,trim\\t 95% Range'\n",
      "header += '\\n' + '-'*80\n",
      "\n",
      "def survival_table(name, N2, P, P2, binlabels=bins, num_samples=100):\n",
      "    \"\"\"Print survival tables, sampling for 95% CI. Return 95% CI uppers and lowers.\n",
      "        name -- string, eg \"Hikers\"\n",
      "        N2 -- sequence of smoothed #subjects who were still not found at that hours bin\n",
      "        P -- sequence of raw stated survival chances from (Koester 2008)\n",
      "        P2 -- sequence of smoothed survival chance for this category\n",
      "        binlabels -- sequence of strings, eg ['>0', '>24', '>48', ...]\n",
      "        num_samples -- integer, how many times to resample\n",
      "        \n",
      "    Returns (lowers, uppers), sequences for lower 95% limit and upper 95% limit,\n",
      "    as probabilities.\n",
      "    \n",
      "    \"\"\"\n",
      "    print '::: %s :::::::::' % name\n",
      "    print header\n",
      "    lowers, uppers = [], []\n",
      "    for hrs_bin, n2, p, p2 in zip(bins, N2, P, P2):\n",
      "        n_surv = n2 * p2\n",
      "        stdev, samples = resample_stdev(n2, n_surv, num_samples)\n",
      "        # Empirical 95% CI: trim the lower and upper 2.5%\n",
      "        samples.sort()\n",
      "        trim = np.round(.025*len(samples))\n",
      "        lb95 = samples[trim]\n",
      "        ub95 = samples[-trim-1]\n",
      "        lowers.append(p2 - lb95/n2)\n",
      "        uppers.append(ub95/n2 - p2)\n",
      "        print '%3s  %.1f\\t %.0f%%\\t%.0f%%\\t %.1f\\t %.1f\\t [%d, %d]\\t %d,%d\\t [%d, %d]' % \\\n",
      "            (hrs_bin, n2, 100*p, 100*p2, n_surv, stdev,\n",
      "             samples[0], samples[-1], len(samples), trim, lb95, ub95)\n",
      "        #print samples\n",
      "    return lowers, uppers\n",
      "\n",
      "lowers, uppers = survival_table('Hikers', N2_hikers, P_hikers, P2_hikers)"
     ],
     "language": "python",
     "metadata": {},
     "outputs": [
      {
       "output_type": "stream",
       "stream": "stdout",
       "text": [
        "::: Hikers :::::::::\n",
        "Hrs    N\t P\tP2\tN_surv\t SD\t Range\t\t s,trim\t 95% Range\n",
        "--------------------------------------------------------------------------------\n",
        " >0  2460.5\t 97%\t97%\t 2386.5\t 8.6\t [2365, 2409]\t 100,2\t [2372, 2404]\n",
        ">24  361.5\t 76%\t76%\t 274.5\t 9.0\t [252, 292]\t 100,2\t [255, 291]\n",
        ">48  118.5\t 60%\t60%\t 71.5\t 5.2\t [58, 85]\t 100,2\t [63, 82]\n",
        ">72  51.5\t 52%\t53%\t 27.5\t 4.1\t [12, 37]\t 100,2\t [21, 36]\n",
        ">96  23.5\t 49%\t49%\t 11.5\t 2.6\t [7, 18]\t 100,2\t [8, 17]\n"
       ]
      }
     ],
     "prompt_number": 149
    },
    {
     "cell_type": "code",
     "collapsed": false,
     "input": [
      "def plot_surv(name, P, N, lowers, uppers,\n",
      "              N_bins=len(bins), bin_nums=(0,24,48,72,96)):\n",
      "    '''Plot survival curve with size bubbles and errorbars. Return the axes.'''\n",
      "    errbars = 100*np.array([lowers, uppers])\n",
      "    #print errbars\n",
      "    plt.title('%s Survival Probabilities' % name)\n",
      "    plt.xlabel('For subjects not found as of $x$ hours...')\n",
      "    plt.ylabel('Survival Rate')\n",
      "    plt.scatter(bin_nums, 100*P, s=N)\n",
      "    axes = plt.gca()\n",
      "    axes.set_xticks(bin_nums)\n",
      "    axes.set_xticklabels(bins)\n",
      "    axes.set_ylim((0,100))\n",
      "    plt.errorbar(bin_nums, 100*P, yerr=errbars)\n",
      "    plt.savefig('%s_survival_probs.pdf' % name)\n",
      "    return axes\n",
      "    \n",
      "plot_surv('Hikers', P_hikers, N2_hikers, lowers, uppers)"
     ],
     "language": "python",
     "metadata": {},
     "outputs": [
      {
       "metadata": {},
       "output_type": "pyout",
       "prompt_number": 175,
       "text": [
        "<matplotlib.axes.AxesSubplot at 0x10852f910>"
       ]
      },
      {
       "metadata": {},
       "output_type": "display_data",
       "png": "[encoded data removed]",
       "text": [
        "<matplotlib.figure.Figure at 0x10852f550>"
       ]
      }
     ],
     "prompt_number": 175
    },
    {
     "cell_type": "markdown",
     "metadata": {},
     "source": [
      "That matches what we saw above.\n",
      "\n",
      "Now we can call this function on the other data."
     ]
    },
    {
     "cell_type": "heading",
     "level": 2,
     "metadata": {},
     "source": [
      "Uncertainties for Child 4-6"
     ]
    },
    {
     "cell_type": "code",
     "collapsed": false,
     "input": [
      "lowers, uppers = survival_table('Child 4-6', N2_child46, P_child46, P2_child46)\n",
      "plot_surv('Child 4-6', P_child46, N2_child46, lowers, uppers)"
     ],
     "language": "python",
     "metadata": {},
     "outputs": [
      {
       "output_type": "stream",
       "stream": "stdout",
       "text": [
        "::: Child 4-6 :::::::::\n",
        "Hrs    N\t P\tP2\tN_surv\t SD\t Range\t\t s,trim\t 95% Range\n",
        "--------------------------------------------------------------------------------\n",
        " >0  191.5\t 98%\t98%\t 187.5\t 2.0\t [182, 192]\t 100,2\t [183, 191]\n",
        ">24  8.5\t 38%\t41%\t 3.5\t 1.3\t [1, 7]\t 100,2\t [1, 7]\n",
        ">48  3.5\t 33%\t43%\t 1.5\t 1.0\t [0, 4]\t 100,2\t [0, 4]\n",
        ">72  2.5\t 0%\t20%\t 0.5\t 0.8\t [0, 3]\t 100,2\t [0, 3]\n",
        ">96  1.5\t 0%\t33%\t 0.5\t 0.7\t [0, 2]\t 100,2\t [0, 2]\n"
       ]
      },
      {
       "metadata": {},
       "output_type": "display_data",
       "png": "[encoded data removed]",
       "text": [
        "<matplotlib.figure.Figure at 0x108428a10>"
       ]
      }
     ],
     "prompt_number": 167
    },
    {
     "cell_type": "heading",
     "level": 2,
     "metadata": {},
     "source": [
      "Uncertainties for Child 10-12"
     ]
    },
    {
     "cell_type": "code",
     "collapsed": false,
     "input": [
      "lowers, uppers = survival_table('Child 10-12', N2_child1012, P_child1012, P2_child1012)\n",
      "plot_surv('Child 10-12', P_child1012, N2_child1012, lowers, uppers)"
     ],
     "language": "python",
     "metadata": {},
     "outputs": [
      {
       "output_type": "stream",
       "stream": "stdout",
       "text": [
        "::: Child 10-12 :::::::::\n",
        "Hrs    N\t P\tP2\tN_surv\t SD\t Range\t\t s,trim\t 95% Range\n",
        "--------------------------------------------------------------------------------\n",
        " >0  257.5\t 98%\t98%\t 252.5\t 2.1\t [248, 257]\t 100,2\t [249, 257]\n",
        ">24  22.5\t 86%\t87%\t 19.5\t 1.4\t [17, 23]\t 100,2\t [18, 23]\n",
        ">48  4.5\t 75%\t78%\t 3.5\t 0.8\t [2, 5]\t 100,2\t [3, 5]\n",
        ">72  2.5\t 50%\t60%\t 1.5\t 0.9\t [0, 3]\t 100,2\t [0, 3]\n",
        ">96  1.5\t 0%\t33%\t 0.5\t 0.7\t [0, 2]\t 100,2\t [0, 2]\n"
       ]
      },
      {
       "metadata": {},
       "output_type": "display_data",
       "png": "[encoded data removed]",
       "text": [
        "<matplotlib.figure.Figure at 0x108472410>"
       ]
      }
     ],
     "prompt_number": 168
    },
    {
     "cell_type": "heading",
     "level": 2,
     "metadata": {},
     "source": [
      "Combined Child 4-6 and 10-12"
     ]
    },
    {
     "cell_type": "code",
     "collapsed": false,
     "input": [
      "N_child_all = N_child46 + N_child1012\n",
      "N2_child_all = N_child_all + .5\n",
      "N_surv = np.round(N_child46 * P_child46 + N_child1012 * P_child1012)\n",
      "P_child_all = N_surv / N_child_all\n",
      "P2_child_all = (N_surv + .5) / N2_child_all\n",
      "print N_surv\n",
      "print P_child_all\n",
      "print P2_child_all"
     ],
     "language": "python",
     "metadata": {},
     "outputs": [
      {
       "output_type": "stream",
       "stream": "stdout",
       "text": [
        "[ 439.   22.    4.    1.    0.]\n",
        "[ 0.97991071  0.73333333  0.57142857  0.25        0.        ]\n",
        "[ 0.97993311  0.73770492  0.6         0.33333333  0.2       ]\n"
       ]
      }
     ],
     "prompt_number": 158
    },
    {
     "cell_type": "code",
     "collapsed": false,
     "input": [
      "lowers, uppers = survival_table('Child 4-6 or 10-12', N2_child_all, P_child_all, P2_child_all)\n",
      "plot_surv('Child 4-6 or 10-12', P_child_all, N2_child_all, lowers, uppers)"
     ],
     "language": "python",
     "metadata": {},
     "outputs": [
      {
       "output_type": "stream",
       "stream": "stdout",
       "text": [
        "::: Child 4-6 or 10-12 :::::::::\n",
        "Hrs    N\t P\tP2\tN_surv\t SD\t Range\t\t s,trim\t 95% Range\n",
        "--------------------------------------------------------------------------------\n",
        " >0  448.5\t 98%\t98%\t 439.5\t 2.6\t [431, 446]\t 100,2\t [435, 445]\n",
        ">24  30.5\t 73%\t74%\t 22.5\t 2.7\t [15, 29]\t 100,2\t [17, 27]\n",
        ">48  7.5\t 57%\t60%\t 4.5\t 1.4\t [2, 8]\t 100,2\t [3, 7]\n",
        ">72  4.5\t 25%\t33%\t 1.5\t 1.1\t [0, 5]\t 100,2\t [0, 4]\n",
        ">96  2.5\t 0%\t20%\t 0.5\t 0.7\t [0, 3]\t 100,2\t [0, 2]\n"
       ]
      },
      {
       "metadata": {},
       "output_type": "display_data",
       "png": "[encoded data removed]",
       "text": [
        "<matplotlib.figure.Figure at 0x1079a4210>"
       ]
      }
     ],
     "prompt_number": 173
    },
    {
     "cell_type": "code",
     "collapsed": false,
     "input": [
      "lowers, uppers = survival_table('Child 4-6 or 10-12', N2_child_all, P_child_all, P2_child_all)\n",
      "plot_surv('Child 4-6 or 10-12 SMOOTHED', P2_child_all, N2_child_all, lowers, uppers)"
     ],
     "language": "python",
     "metadata": {},
     "outputs": [
      {
       "output_type": "stream",
       "stream": "stdout",
       "text": [
        "::: Child 4-6 or 10-12 :::::::::\n",
        "Hrs    N\t P\tP2\tN_surv\t SD\t Range\t\t s,trim\t 95% Range\n",
        "--------------------------------------------------------------------------------\n",
        " >0  448.5\t 98%\t98%\t 439.5\t 3.4\t [430, 447]\t 100,2\t [432, 446]\n",
        ">24  30.5\t 73%\t74%\t 22.5\t 2.1\t [19, 28]\t 100,2\t [19, 27]\n",
        ">48  7.5\t 57%\t60%\t 4.5\t 1.4\t [2, 8]\t 100,2\t [3, 8]\n",
        ">72  4.5\t 25%\t33%\t 1.5\t 1.1\t [0, 5]\t 100,2\t [0, 4]\n",
        ">96  2.5\t 0%\t20%\t 0.5\t 0.7\t [0, 2]\t 100,2\t [0, 2]\n"
       ]
      },
      {
       "metadata": {},
       "output_type": "display_data",
       "png": "[encoded data removed]",
       "text": [
        "<matplotlib.figure.Figure at 0x10796d610>"
       ]
      }
     ],
     "prompt_number": 174
    },
    {
     "cell_type": "code",
     "collapsed": false,
     "input": [
      "def plot_survs(categories, N_bins=len(bins), bin_nums=(0,24,48,72,96), filename='Survival Chance'):\n",
      "    '''Create one survival subplot for each category in categories.\n",
      "    \n",
      "    categories -- vector of category data vectors\n",
      "    N_bins -- #bins, defaults to length of the global 'bins'\n",
      "    bin_nums -- hours values for each bin, as a sequence\n",
      "    filename -- where to save the multiplot\n",
      "    \n",
      "    Each category consists of the key params to plot_surv():\n",
      "        name, P, N, lowers, uppers\n",
      "    \n",
      "    '''\n",
      "    num_plots = len(categories)\n",
      "    num_rows = 1+num_plots/4\n",
      "    num_cols = min(3, num_plots)\n",
      "    fig = plt.gcf()\n",
      "    for i in range(num_plots):\n",
      "        axes = plt.subplot(num_rows, num_cols, i+1)\n",
      "        axes.set_ylim((0,100))\n",
      "        name, P, N, lowers, uppers = categories[i]\n",
      "        plt.title(name, fontsize=10)\n",
      "        filename += ' %s' % name[:3]\n",
      "        errbars = 100*np.array([lowers, uppers])\n",
      "        plt.scatter(bin_nums, 100*P, s=N)\n",
      "        plt.errorbar(bin_nums, 100*P, yerr=errbars)\n",
      "        plt.setp(axes.get_xticklabels(), visible=False) \n",
      "        if i+1 > 3*(num_rows-1):\n",
      "            plt.setp(axes.get_xticklabels(), visible=True) \n",
      "            axes.set_xticklabels(bins)\n",
      "            axes.set_xticks(bin_nums)\n",
      "        if i%3 == 0:\n",
      "            plt.ylabel('Survival Rate (%)')\n",
      "        else:\n",
      "            plt.setp(axes.get_yticklabels(), visible=False) \n",
      "    fig.suptitle('Survival Chances from ISRID (Koester 2008)', fontsize=12)\n",
      "    plt.text(.5,0,'For subjects not found as of $x$ hours...', \n",
      "             transform=fig.transFigure, \n",
      "             ha='center')\n",
      "    plt.savefig('%s.pdf' % filename)\n",
      "    plt.show()\n",
      "    \n",
      "plot_survs( (('Hikers', P_hikers, N2_hikers, lowers, uppers),\n",
      "             ('Child 4-6;10-12', P_child_all, N2_child_all, lowers, uppers),\n",
      "             ))"
     ],
     "language": "python",
     "metadata": {},
     "outputs": [
      {
       "metadata": {},
       "output_type": "display_data",
       "png": "[encoded data removed]",
       "text": [
        "<matplotlib.figure.Figure at 0x109090850>"
       ]
      }
     ],
     "prompt_number": 239
    },
    {
     "cell_type": "code",
     "collapsed": false,
     "input": [],
     "language": "python",
     "metadata": {},
     "outputs": []
    }
   ],
   "metadata": {}
  }
 ]
}